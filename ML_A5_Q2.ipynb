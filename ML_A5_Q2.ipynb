{
 "cells": [
  {
   "cell_type": "markdown",
   "metadata": {},
   "source": [
    "### Q2"
   ]
  },
  {
   "cell_type": "code",
   "execution_count": 1,
   "metadata": {},
   "outputs": [],
   "source": [
    "from sklearn.datasets import load_breast_cancer"
   ]
  },
  {
   "cell_type": "code",
   "execution_count": 2,
   "metadata": {},
   "outputs": [],
   "source": [
    "data = load_breast_cancer()"
   ]
  },
  {
   "cell_type": "code",
   "execution_count": 3,
   "metadata": {},
   "outputs": [
    {
     "data": {
      "text/plain": [
       "{'data': array([[1.799e+01, 1.038e+01, 1.228e+02, ..., 2.654e-01, 4.601e-01,\n",
       "         1.189e-01],\n",
       "        [2.057e+01, 1.777e+01, 1.329e+02, ..., 1.860e-01, 2.750e-01,\n",
       "         8.902e-02],\n",
       "        [1.969e+01, 2.125e+01, 1.300e+02, ..., 2.430e-01, 3.613e-01,\n",
       "         8.758e-02],\n",
       "        ...,\n",
       "        [1.660e+01, 2.808e+01, 1.083e+02, ..., 1.418e-01, 2.218e-01,\n",
       "         7.820e-02],\n",
       "        [2.060e+01, 2.933e+01, 1.401e+02, ..., 2.650e-01, 4.087e-01,\n",
       "         1.240e-01],\n",
       "        [7.760e+00, 2.454e+01, 4.792e+01, ..., 0.000e+00, 2.871e-01,\n",
       "         7.039e-02]]),\n",
       " 'target': array([0, 0, 0, 0, 0, 0, 0, 0, 0, 0, 0, 0, 0, 0, 0, 0, 0, 0, 0, 1, 1, 1,\n",
       "        0, 0, 0, 0, 0, 0, 0, 0, 0, 0, 0, 0, 0, 0, 0, 1, 0, 0, 0, 0, 0, 0,\n",
       "        0, 0, 1, 0, 1, 1, 1, 1, 1, 0, 0, 1, 0, 0, 1, 1, 1, 1, 0, 1, 0, 0,\n",
       "        1, 1, 1, 1, 0, 1, 0, 0, 1, 0, 1, 0, 0, 1, 1, 1, 0, 0, 1, 0, 0, 0,\n",
       "        1, 1, 1, 0, 1, 1, 0, 0, 1, 1, 1, 0, 0, 1, 1, 1, 1, 0, 1, 1, 0, 1,\n",
       "        1, 1, 1, 1, 1, 1, 1, 0, 0, 0, 1, 0, 0, 1, 1, 1, 0, 0, 1, 0, 1, 0,\n",
       "        0, 1, 0, 0, 1, 1, 0, 1, 1, 0, 1, 1, 1, 1, 0, 1, 1, 1, 1, 1, 1, 1,\n",
       "        1, 1, 0, 1, 1, 1, 1, 0, 0, 1, 0, 1, 1, 0, 0, 1, 1, 0, 0, 1, 1, 1,\n",
       "        1, 0, 1, 1, 0, 0, 0, 1, 0, 1, 0, 1, 1, 1, 0, 1, 1, 0, 0, 1, 0, 0,\n",
       "        0, 0, 1, 0, 0, 0, 1, 0, 1, 0, 1, 1, 0, 1, 0, 0, 0, 0, 1, 1, 0, 0,\n",
       "        1, 1, 1, 0, 1, 1, 1, 1, 1, 0, 0, 1, 1, 0, 1, 1, 0, 0, 1, 0, 1, 1,\n",
       "        1, 1, 0, 1, 1, 1, 1, 1, 0, 1, 0, 0, 0, 0, 0, 0, 0, 0, 0, 0, 0, 0,\n",
       "        0, 0, 1, 1, 1, 1, 1, 1, 0, 1, 0, 1, 1, 0, 1, 1, 0, 1, 0, 0, 1, 1,\n",
       "        1, 1, 1, 1, 1, 1, 1, 1, 1, 1, 1, 0, 1, 1, 0, 1, 0, 1, 1, 1, 1, 1,\n",
       "        1, 1, 1, 1, 1, 1, 1, 1, 1, 0, 1, 1, 1, 0, 1, 0, 1, 1, 1, 1, 0, 0,\n",
       "        0, 1, 1, 1, 1, 0, 1, 0, 1, 0, 1, 1, 1, 0, 1, 1, 1, 1, 1, 1, 1, 0,\n",
       "        0, 0, 1, 1, 1, 1, 1, 1, 1, 1, 1, 1, 1, 0, 0, 1, 0, 0, 0, 1, 0, 0,\n",
       "        1, 1, 1, 1, 1, 0, 1, 1, 1, 1, 1, 0, 1, 1, 1, 0, 1, 1, 0, 0, 1, 1,\n",
       "        1, 1, 1, 1, 0, 1, 1, 1, 1, 1, 1, 1, 0, 1, 1, 1, 1, 1, 0, 1, 1, 0,\n",
       "        1, 1, 1, 1, 1, 1, 1, 1, 1, 1, 1, 1, 0, 1, 0, 0, 1, 0, 1, 1, 1, 1,\n",
       "        1, 0, 1, 1, 0, 1, 0, 1, 1, 0, 1, 0, 1, 1, 1, 1, 1, 1, 1, 1, 0, 0,\n",
       "        1, 1, 1, 1, 1, 1, 0, 1, 1, 1, 1, 1, 1, 1, 1, 1, 1, 0, 1, 1, 1, 1,\n",
       "        1, 1, 1, 0, 1, 0, 1, 1, 0, 1, 1, 1, 1, 1, 0, 0, 1, 0, 1, 0, 1, 1,\n",
       "        1, 1, 1, 0, 1, 1, 0, 1, 0, 1, 0, 0, 1, 1, 1, 0, 1, 1, 1, 1, 1, 1,\n",
       "        1, 1, 1, 1, 1, 0, 1, 0, 0, 1, 1, 1, 1, 1, 1, 1, 1, 1, 1, 1, 1, 1,\n",
       "        1, 1, 1, 1, 1, 1, 1, 1, 1, 1, 1, 1, 0, 0, 0, 0, 0, 0, 1]),\n",
       " 'frame': None,\n",
       " 'target_names': array(['malignant', 'benign'], dtype='<U9'),\n",
       " 'DESCR': '.. _breast_cancer_dataset:\\n\\nBreast cancer wisconsin (diagnostic) dataset\\n--------------------------------------------\\n\\n**Data Set Characteristics:**\\n\\n    :Number of Instances: 569\\n\\n    :Number of Attributes: 30 numeric, predictive attributes and the class\\n\\n    :Attribute Information:\\n        - radius (mean of distances from center to points on the perimeter)\\n        - texture (standard deviation of gray-scale values)\\n        - perimeter\\n        - area\\n        - smoothness (local variation in radius lengths)\\n        - compactness (perimeter^2 / area - 1.0)\\n        - concavity (severity of concave portions of the contour)\\n        - concave points (number of concave portions of the contour)\\n        - symmetry\\n        - fractal dimension (\"coastline approximation\" - 1)\\n\\n        The mean, standard error, and \"worst\" or largest (mean of the three\\n        worst/largest values) of these features were computed for each image,\\n        resulting in 30 features.  For instance, field 0 is Mean Radius, field\\n        10 is Radius SE, field 20 is Worst Radius.\\n\\n        - class:\\n                - WDBC-Malignant\\n                - WDBC-Benign\\n\\n    :Summary Statistics:\\n\\n    ===================================== ====== ======\\n                                           Min    Max\\n    ===================================== ====== ======\\n    radius (mean):                        6.981  28.11\\n    texture (mean):                       9.71   39.28\\n    perimeter (mean):                     43.79  188.5\\n    area (mean):                          143.5  2501.0\\n    smoothness (mean):                    0.053  0.163\\n    compactness (mean):                   0.019  0.345\\n    concavity (mean):                     0.0    0.427\\n    concave points (mean):                0.0    0.201\\n    symmetry (mean):                      0.106  0.304\\n    fractal dimension (mean):             0.05   0.097\\n    radius (standard error):              0.112  2.873\\n    texture (standard error):             0.36   4.885\\n    perimeter (standard error):           0.757  21.98\\n    area (standard error):                6.802  542.2\\n    smoothness (standard error):          0.002  0.031\\n    compactness (standard error):         0.002  0.135\\n    concavity (standard error):           0.0    0.396\\n    concave points (standard error):      0.0    0.053\\n    symmetry (standard error):            0.008  0.079\\n    fractal dimension (standard error):   0.001  0.03\\n    radius (worst):                       7.93   36.04\\n    texture (worst):                      12.02  49.54\\n    perimeter (worst):                    50.41  251.2\\n    area (worst):                         185.2  4254.0\\n    smoothness (worst):                   0.071  0.223\\n    compactness (worst):                  0.027  1.058\\n    concavity (worst):                    0.0    1.252\\n    concave points (worst):               0.0    0.291\\n    symmetry (worst):                     0.156  0.664\\n    fractal dimension (worst):            0.055  0.208\\n    ===================================== ====== ======\\n\\n    :Missing Attribute Values: None\\n\\n    :Class Distribution: 212 - Malignant, 357 - Benign\\n\\n    :Creator:  Dr. William H. Wolberg, W. Nick Street, Olvi L. Mangasarian\\n\\n    :Donor: Nick Street\\n\\n    :Date: November, 1995\\n\\nThis is a copy of UCI ML Breast Cancer Wisconsin (Diagnostic) datasets.\\nhttps://goo.gl/U2Uwz2\\n\\nFeatures are computed from a digitized image of a fine needle\\naspirate (FNA) of a breast mass.  They describe\\ncharacteristics of the cell nuclei present in the image.\\n\\nSeparating plane described above was obtained using\\nMultisurface Method-Tree (MSM-T) [K. P. Bennett, \"Decision Tree\\nConstruction Via Linear Programming.\" Proceedings of the 4th\\nMidwest Artificial Intelligence and Cognitive Science Society,\\npp. 97-101, 1992], a classification method which uses linear\\nprogramming to construct a decision tree.  Relevant features\\nwere selected using an exhaustive search in the space of 1-4\\nfeatures and 1-3 separating planes.\\n\\nThe actual linear program used to obtain the separating plane\\nin the 3-dimensional space is that described in:\\n[K. P. Bennett and O. L. Mangasarian: \"Robust Linear\\nProgramming Discrimination of Two Linearly Inseparable Sets\",\\nOptimization Methods and Software 1, 1992, 23-34].\\n\\nThis database is also available through the UW CS ftp server:\\n\\nftp ftp.cs.wisc.edu\\ncd math-prog/cpo-dataset/machine-learn/WDBC/\\n\\n.. topic:: References\\n\\n   - W.N. Street, W.H. Wolberg and O.L. Mangasarian. Nuclear feature extraction \\n     for breast tumor diagnosis. IS&T/SPIE 1993 International Symposium on \\n     Electronic Imaging: Science and Technology, volume 1905, pages 861-870,\\n     San Jose, CA, 1993.\\n   - O.L. Mangasarian, W.N. Street and W.H. Wolberg. Breast cancer diagnosis and \\n     prognosis via linear programming. Operations Research, 43(4), pages 570-577, \\n     July-August 1995.\\n   - W.H. Wolberg, W.N. Street, and O.L. Mangasarian. Machine learning techniques\\n     to diagnose breast cancer from fine-needle aspirates. Cancer Letters 77 (1994) \\n     163-171.',\n",
       " 'feature_names': array(['mean radius', 'mean texture', 'mean perimeter', 'mean area',\n",
       "        'mean smoothness', 'mean compactness', 'mean concavity',\n",
       "        'mean concave points', 'mean symmetry', 'mean fractal dimension',\n",
       "        'radius error', 'texture error', 'perimeter error', 'area error',\n",
       "        'smoothness error', 'compactness error', 'concavity error',\n",
       "        'concave points error', 'symmetry error',\n",
       "        'fractal dimension error', 'worst radius', 'worst texture',\n",
       "        'worst perimeter', 'worst area', 'worst smoothness',\n",
       "        'worst compactness', 'worst concavity', 'worst concave points',\n",
       "        'worst symmetry', 'worst fractal dimension'], dtype='<U23'),\n",
       " 'filename': 'D:\\\\Anaconda3\\\\lib\\\\site-packages\\\\sklearn\\\\datasets\\\\data\\\\breast_cancer.csv'}"
      ]
     },
     "execution_count": 3,
     "metadata": {},
     "output_type": "execute_result"
    }
   ],
   "source": [
    "data"
   ]
  },
  {
   "cell_type": "code",
   "execution_count": 4,
   "metadata": {},
   "outputs": [],
   "source": [
    "X = data.data\n"
   ]
  },
  {
   "cell_type": "code",
   "execution_count": 5,
   "metadata": {},
   "outputs": [],
   "source": [
    "y = data.target"
   ]
  },
  {
   "cell_type": "code",
   "execution_count": 6,
   "metadata": {},
   "outputs": [],
   "source": [
    "from sklearn.preprocessing import StandardScaler\n",
    "sc_x = StandardScaler()\n",
    "X = sc_x.fit_transform(X) "
   ]
  },
  {
   "cell_type": "code",
   "execution_count": 7,
   "metadata": {},
   "outputs": [],
   "source": [
    "from sklearn.model_selection import train_test_split\n",
    "X_train, X_test, y_train, y_test = train_test_split(X, y, test_size = 0.2, random_state = 42)"
   ]
  },
  {
   "cell_type": "code",
   "execution_count": null,
   "metadata": {},
   "outputs": [],
   "source": []
  },
  {
   "cell_type": "markdown",
   "metadata": {},
   "source": [
    "### Logistic Regression"
   ]
  },
  {
   "cell_type": "markdown",
   "metadata": {},
   "source": [
    "### Default Values"
   ]
  },
  {
   "cell_type": "code",
   "execution_count": 9,
   "metadata": {},
   "outputs": [
    {
     "name": "stdout",
     "output_type": "stream",
     "text": [
      "Confusion Matrix : \n",
      " [[41  2]\n",
      " [ 1 70]]\n",
      "Training_Accuracy: 0.9868131868131869\n",
      "Testing Accuracy :  0.9736842105263158\n",
      "The Variance is: 0.23268698060941828\n",
      "The bias is: 0.0010953755677696742\n"
     ]
    }
   ],
   "source": [
    "from sklearn.linear_model import LogisticRegression\n",
    "from sklearn.metrics import confusion_matrix\n",
    "from sklearn.metrics import accuracy_score\n",
    "import numpy as np\n",
    "\n",
    "classifier = LogisticRegression(C=1.0,max_iter=100)\n",
    "\n",
    "'''Cfloat, default=1.0\n",
    "Inverse of regularization strength; must be a positive float. \n",
    "Like in support vector machines, smaller values specify stronger regularization.'''\n",
    "'''max_iterint, default=100\n",
    "Maximum number of iterations taken for the solvers to converge.'''\n",
    "\n",
    "classifier.fit(X_train, y_train)\n",
    "y_pred = classifier.predict(X_test)\n",
    "\n",
    "cm = confusion_matrix(y_test, y_pred)\n",
    "\n",
    "Variance = np.var(y_pred)\n",
    "SSE = np.mean((np.mean(y_pred)-y)**2)\n",
    "Bias = SSE-Variance\n",
    "\n",
    "print (\"Confusion Matrix : \\n\", cm)\n",
    "print(\"Training_Accuracy:\",accuracy_score(y_train,classifier.predict(X_train)))\n",
    "print (\"Testing Accuracy : \", accuracy_score(y_test, y_pred))\n",
    "print(\"The Variance is:\",Variance)\n",
    "print(\"The bias is:\",Bias)"
   ]
  },
  {
   "cell_type": "code",
   "execution_count": 19,
   "metadata": {},
   "outputs": [],
   "source": [
    "from mlxtend.evaluate import bias_variance_decomp"
   ]
  },
  {
   "cell_type": "code",
   "execution_count": 23,
   "metadata": {},
   "outputs": [
    {
     "name": "stdout",
     "output_type": "stream",
     "text": [
      "MSE from bias_variance lib [avg expected loss]: 0.022\n",
      "Avg Bias: 0.015\n",
      "Avg Variance: 0.007\n",
      "Mean Square error by Sckit-learn lib: 0.026\n"
     ]
    }
   ],
   "source": [
    "from sklearn import metrics\n",
    "from sklearn.metrics import mean_squared_error \n",
    "\n",
    "classifier = LogisticRegression(C=1.0,max_iter=100)\n",
    "classifier.fit(X_train, y_train)\n",
    "\n",
    "mse, bias, var = bias_variance_decomp(classifier, X_train, y_train, X_test, y_test, loss='mse', num_rounds=200, random_seed=123)\n",
    "y_pred=classifier.predict(X_test)\n",
    "# summarize results\n",
    "print('MSE from bias_variance lib [avg expected loss]: %.3f' % mse)\n",
    "print('Avg Bias: %.3f' % bias)\n",
    "print('Avg Variance: %.3f' % var)\n",
    "print('Mean Square error by Sckit-learn lib: %.3f' % metrics.mean_squared_error(y_test,y_pred))"
   ]
  },
  {
   "cell_type": "code",
   "execution_count": null,
   "metadata": {},
   "outputs": [],
   "source": []
  },
  {
   "cell_type": "code",
   "execution_count": null,
   "metadata": {},
   "outputs": [],
   "source": []
  },
  {
   "cell_type": "code",
   "execution_count": null,
   "metadata": {},
   "outputs": [],
   "source": []
  },
  {
   "cell_type": "code",
   "execution_count": null,
   "metadata": {},
   "outputs": [],
   "source": []
  },
  {
   "cell_type": "markdown",
   "metadata": {},
   "source": [
    "### Changing Values"
   ]
  },
  {
   "cell_type": "code",
   "execution_count": null,
   "metadata": {},
   "outputs": [],
   "source": [
    "''' C is the inverse of regularization strength.\n",
    "It's expected to consume more iterations and may lead to overfit the model.\n",
    "A high value of C tells the model to give high weight to the training data, and a lower weight to the complexity penalty. \n",
    "A low value tells the model to give more weight to this complexity penalty at the expense of fitting to the training data.\n",
    "Basically, a high C means \"Trust this training data a lot\", while a low value says \"This data may not be fully representative\n",
    "of the real world data, so if it's telling you to make a parameter really large, don't listen to it\".'''"
   ]
  },
  {
   "cell_type": "code",
   "execution_count": 43,
   "metadata": {},
   "outputs": [
    {
     "name": "stdout",
     "output_type": "stream",
     "text": [
      "The Variance is: 0.2303016312711603\n",
      "The bias is: 0.0036306966967259713\n",
      "Confusion Matrix : \n",
      " [[41  2]\n",
      " [ 0 71]]\n",
      "Training_Accuracy: 0.9802197802197802\n",
      "Testing Accuracy :  0.9824561403508771\n"
     ]
    }
   ],
   "source": [
    "classifier = LogisticRegression(C=0.1,max_iter=100)\n",
    "classifier.fit(X_train, y_train)\n",
    "y_pred = classifier.predict(X_test)\n",
    "cm = confusion_matrix(y_test, y_pred)  \n",
    "Variance = np.var(y_pred)\n",
    "SSE = np.mean((np.mean(y_pred)-y)**2)\n",
    "Bias = SSE-Variance\n",
    "print(\"The Variance is:\",Variance)\n",
    "print(\"The bias is:\",Bias)\n",
    "print (\"Confusion Matrix : \\n\", cm)\n",
    "print(\"Training_Accuracy:\",accuracy_score(y_train,classifier.predict(X_train)))\n",
    "print (\"Testing Accuracy : \", accuracy_score(y_test, y_pred))"
   ]
  },
  {
   "cell_type": "code",
   "execution_count": 44,
   "metadata": {},
   "outputs": [
    {
     "name": "stdout",
     "output_type": "stream",
     "text": [
      "The Variance is: 0.23699599876885197\n",
      "The bias is: -0.0030519056559785707\n",
      "Confusion Matrix : \n",
      " [[42  1]\n",
      " [ 2 69]]\n",
      "Training_Accuracy: 0.989010989010989\n",
      "Testing Accuracy :  0.9736842105263158\n"
     ]
    }
   ],
   "source": [
    "classifier = LogisticRegression(C=10,max_iter=100)\n",
    "classifier.fit(X_train, y_train)\n",
    "y_pred = classifier.predict(X_test)\n",
    "cm = confusion_matrix(y_test, y_pred)  \n",
    "Variance = np.var(y_pred)\n",
    "SSE = np.mean((np.mean(y_pred)-y)**2)\n",
    "Bias = SSE-Variance\n",
    "print(\"The Variance is:\",Variance)\n",
    "print(\"The bias is:\",Bias)\n",
    "print (\"Confusion Matrix : \\n\", cm)\n",
    "print(\"Training_Accuracy:\",accuracy_score(y_train,classifier.predict(X_train)))\n",
    "print (\"Testing Accuracy : \", accuracy_score(y_test, y_pred))"
   ]
  },
  {
   "cell_type": "code",
   "execution_count": 45,
   "metadata": {},
   "outputs": [
    {
     "name": "stdout",
     "output_type": "stream",
     "text": [
      "The Variance is: 0.23699599876885197\n",
      "The bias is: -0.0030519056559785707\n",
      "Confusion Matrix : \n",
      " [[42  1]\n",
      " [ 2 69]]\n",
      "Training_Accuracy: 0.989010989010989\n",
      "Testing Accuracy :  0.9736842105263158\n"
     ]
    }
   ],
   "source": [
    "classifier = LogisticRegression(C=10,max_iter=200)\n",
    "classifier.fit(X_train, y_train)\n",
    "y_pred = classifier.predict(X_test)\n",
    "cm = confusion_matrix(y_test, y_pred)  \n",
    "Variance = np.var(y_pred)\n",
    "SSE = np.mean((np.mean(y_pred)-y)**2)\n",
    "Bias = SSE-Variance\n",
    "print(\"The Variance is:\",Variance)\n",
    "print(\"The bias is:\",Bias)\n",
    "print (\"Confusion Matrix : \\n\", cm)\n",
    "print(\"Training_Accuracy:\",accuracy_score(y_train,classifier.predict(X_train)))\n",
    "print (\"Testing Accuracy : \", accuracy_score(y_test, y_pred))"
   ]
  },
  {
   "cell_type": "code",
   "execution_count": 46,
   "metadata": {},
   "outputs": [
    {
     "name": "stdout",
     "output_type": "stream",
     "text": [
      "The Variance is: 0.2437673130193906\n",
      "The bias is: -0.007653023966817413\n",
      "Confusion Matrix : \n",
      " [[42  1]\n",
      " [ 6 65]]\n",
      "Training_Accuracy: 0.9934065934065934\n",
      "Testing Accuracy :  0.9385964912280702\n"
     ]
    }
   ],
   "source": [
    "classifier = LogisticRegression(C=100,max_iter=200)\n",
    "classifier.fit(X_train, y_train)\n",
    "y_pred = classifier.predict(X_test)\n",
    "cm = confusion_matrix(y_test, y_pred) \n",
    "Variance = np.var(y_pred)\n",
    "SSE = np.mean((np.mean(y_pred)-y)**2)\n",
    "Bias = SSE-Variance\n",
    "print(\"The Variance is:\",Variance)\n",
    "print(\"The bias is:\",Bias)\n",
    "print (\"Confusion Matrix : \\n\", cm)\n",
    "print(\"Training_Accuracy:\",accuracy_score(y_train,classifier.predict(X_train)))\n",
    "print (\"Testing Accuracy : \", accuracy_score(y_test, y_pred))"
   ]
  },
  {
   "cell_type": "code",
   "execution_count": 47,
   "metadata": {},
   "outputs": [
    {
     "name": "stdout",
     "output_type": "stream",
     "text": [
      "The Variance is: 0.2437673130193906\n",
      "The bias is: -0.007653023966817413\n",
      "Confusion Matrix : \n",
      " [[42  1]\n",
      " [ 6 65]]\n",
      "Training_Accuracy: 0.9934065934065934\n",
      "Testing Accuracy :  0.9385964912280702\n"
     ]
    }
   ],
   "source": [
    "classifier = LogisticRegression(C=100,max_iter=300)\n",
    "classifier.fit(X_train, y_train)\n",
    "y_pred = classifier.predict(X_test)\n",
    "cm = confusion_matrix(y_test, y_pred)  \n",
    "Variance = np.var(y_pred)\n",
    "SSE = np.mean((np.mean(y_pred)-y)**2)\n",
    "Bias = SSE-Variance\n",
    "print(\"The Variance is:\",Variance)\n",
    "print(\"The bias is:\",Bias)\n",
    "print (\"Confusion Matrix : \\n\", cm)\n",
    "print(\"Training_Accuracy:\",accuracy_score(y_train,classifier.predict(X_train)))\n",
    "print (\"Testing Accuracy : \", accuracy_score(y_test, y_pred))"
   ]
  },
  {
   "cell_type": "code",
   "execution_count": 48,
   "metadata": {},
   "outputs": [
    {
     "name": "stdout",
     "output_type": "stream",
     "text": [
      "The Variance is: 0.2437673130193906\n",
      "The bias is: -0.007653023966817413\n",
      "Confusion Matrix : \n",
      " [[42  1]\n",
      " [ 6 65]]\n",
      "Training_Accuracy: 1.0\n",
      "Testing Accuracy :  0.9385964912280702\n"
     ]
    }
   ],
   "source": [
    "classifier = LogisticRegression(C=1000,max_iter=400)\n",
    "classifier.fit(X_train, y_train)\n",
    "y_pred = classifier.predict(X_test)\n",
    "cm = confusion_matrix(y_test, y_pred) \n",
    "Variance = np.var(y_pred)\n",
    "SSE = np.mean((np.mean(y_pred)-y)**2)\n",
    "Bias = SSE-Variance\n",
    "print(\"The Variance is:\",Variance)\n",
    "print(\"The bias is:\",Bias)\n",
    "print (\"Confusion Matrix : \\n\", cm)\n",
    "print(\"Training_Accuracy:\",accuracy_score(y_train,classifier.predict(X_train)))\n",
    "print (\"Testing Accuracy : \", accuracy_score(y_test, y_pred))"
   ]
  },
  {
   "cell_type": "code",
   "execution_count": 49,
   "metadata": {},
   "outputs": [
    {
     "name": "stdout",
     "output_type": "stream",
     "text": [
      "The Variance is: 0.2437673130193906\n",
      "The bias is: -0.007653023966817413\n",
      "Confusion Matrix : \n",
      " [[42  1]\n",
      " [ 6 65]]\n",
      "Training_Accuracy: 1.0\n",
      "Testing Accuracy :  0.9385964912280702\n"
     ]
    },
    {
     "name": "stderr",
     "output_type": "stream",
     "text": [
      "D:\\Anaconda3\\lib\\site-packages\\sklearn\\linear_model\\_logistic.py:763: ConvergenceWarning: lbfgs failed to converge (status=1):\n",
      "STOP: TOTAL NO. of ITERATIONS REACHED LIMIT.\n",
      "\n",
      "Increase the number of iterations (max_iter) or scale the data as shown in:\n",
      "    https://scikit-learn.org/stable/modules/preprocessing.html\n",
      "Please also refer to the documentation for alternative solver options:\n",
      "    https://scikit-learn.org/stable/modules/linear_model.html#logistic-regression\n",
      "  n_iter_i = _check_optimize_result(\n"
     ]
    }
   ],
   "source": [
    "classifier = LogisticRegression(C=10000,max_iter=500)\n",
    "classifier.fit(X_train, y_train)\n",
    "y_pred = classifier.predict(X_test)\n",
    "cm = confusion_matrix(y_test, y_pred) \n",
    "Variance = np.var(y_pred)\n",
    "SSE = np.mean((np.mean(y_pred)-y)**2)\n",
    "Bias = SSE-Variance\n",
    "print(\"The Variance is:\",Variance)\n",
    "print(\"The bias is:\",Bias)\n",
    "print (\"Confusion Matrix : \\n\", cm)\n",
    "print(\"Training_Accuracy:\",accuracy_score(y_train,classifier.predict(X_train)))\n",
    "print (\"Testing Accuracy : \", accuracy_score(y_test, y_pred))"
   ]
  },
  {
   "cell_type": "code",
   "execution_count": 10,
   "metadata": {},
   "outputs": [
    {
     "name": "stdout",
     "output_type": "stream",
     "text": [
      "The Variance is: 0.23268698060941828\n",
      "The bias is: 0.0010953755677696742\n",
      "Training_Accuracy: 0.9868131868131869\n",
      "Testing Accuracy :  0.9736842105263158\n",
      "\n",
      "\n",
      "The Variance is: 0.2303016312711603\n",
      "The bias is: 0.0036306966967259713\n",
      "Training_Accuracy: 0.9846153846153847\n",
      "Testing Accuracy :  0.9824561403508771\n",
      "\n",
      "\n",
      "The Variance is: 0.2303016312711603\n",
      "The bias is: 0.0036306966967259713\n",
      "Training_Accuracy: 0.9802197802197802\n",
      "Testing Accuracy :  0.9824561403508771\n",
      "\n",
      "\n",
      "The Variance is: 0.23699599876885197\n",
      "The bias is: -0.0030519056559785707\n",
      "Training_Accuracy: 0.989010989010989\n",
      "Testing Accuracy :  0.9736842105263158\n",
      "\n",
      "\n"
     ]
    },
    {
     "name": "stderr",
     "output_type": "stream",
     "text": [
      "D:\\Anaconda3\\lib\\site-packages\\sklearn\\linear_model\\_logistic.py:763: ConvergenceWarning: lbfgs failed to converge (status=1):\n",
      "STOP: TOTAL NO. of ITERATIONS REACHED LIMIT.\n",
      "\n",
      "Increase the number of iterations (max_iter) or scale the data as shown in:\n",
      "    https://scikit-learn.org/stable/modules/preprocessing.html\n",
      "Please also refer to the documentation for alternative solver options:\n",
      "    https://scikit-learn.org/stable/modules/linear_model.html#logistic-regression\n",
      "  n_iter_i = _check_optimize_result(\n"
     ]
    },
    {
     "name": "stdout",
     "output_type": "stream",
     "text": [
      "The Variance is: 0.24068944290550937\n",
      "The bias is: -0.005968038834174211\n",
      "Training_Accuracy: 0.9934065934065934\n",
      "Testing Accuracy :  0.956140350877193\n",
      "\n",
      "\n"
     ]
    },
    {
     "name": "stderr",
     "output_type": "stream",
     "text": [
      "D:\\Anaconda3\\lib\\site-packages\\sklearn\\linear_model\\_logistic.py:763: ConvergenceWarning: lbfgs failed to converge (status=1):\n",
      "STOP: TOTAL NO. of ITERATIONS REACHED LIMIT.\n",
      "\n",
      "Increase the number of iterations (max_iter) or scale the data as shown in:\n",
      "    https://scikit-learn.org/stable/modules/preprocessing.html\n",
      "Please also refer to the documentation for alternative solver options:\n",
      "    https://scikit-learn.org/stable/modules/linear_model.html#logistic-regression\n",
      "  n_iter_i = _check_optimize_result(\n"
     ]
    },
    {
     "name": "stdout",
     "output_type": "stream",
     "text": [
      "The Variance is: 0.2437673130193906\n",
      "The bias is: -0.007653023966817413\n",
      "Training_Accuracy: 0.9934065934065934\n",
      "Testing Accuracy :  0.9385964912280702\n",
      "\n",
      "\n"
     ]
    },
    {
     "name": "stderr",
     "output_type": "stream",
     "text": [
      "D:\\Anaconda3\\lib\\site-packages\\sklearn\\linear_model\\_logistic.py:763: ConvergenceWarning: lbfgs failed to converge (status=1):\n",
      "STOP: TOTAL NO. of ITERATIONS REACHED LIMIT.\n",
      "\n",
      "Increase the number of iterations (max_iter) or scale the data as shown in:\n",
      "    https://scikit-learn.org/stable/modules/preprocessing.html\n",
      "Please also refer to the documentation for alternative solver options:\n",
      "    https://scikit-learn.org/stable/modules/linear_model.html#logistic-regression\n",
      "  n_iter_i = _check_optimize_result(\n"
     ]
    },
    {
     "name": "stdout",
     "output_type": "stream",
     "text": [
      "The Variance is: 0.2437673130193906\n",
      "The bias is: -0.007653023966817413\n",
      "Training_Accuracy: 0.9934065934065934\n",
      "Testing Accuracy :  0.9385964912280702\n",
      "\n",
      "\n"
     ]
    },
    {
     "name": "stderr",
     "output_type": "stream",
     "text": [
      "D:\\Anaconda3\\lib\\site-packages\\sklearn\\linear_model\\_logistic.py:763: ConvergenceWarning: lbfgs failed to converge (status=1):\n",
      "STOP: TOTAL NO. of ITERATIONS REACHED LIMIT.\n",
      "\n",
      "Increase the number of iterations (max_iter) or scale the data as shown in:\n",
      "    https://scikit-learn.org/stable/modules/preprocessing.html\n",
      "Please also refer to the documentation for alternative solver options:\n",
      "    https://scikit-learn.org/stable/modules/linear_model.html#logistic-regression\n",
      "  n_iter_i = _check_optimize_result(\n",
      "D:\\Anaconda3\\lib\\site-packages\\sklearn\\linear_model\\_logistic.py:763: ConvergenceWarning: lbfgs failed to converge (status=1):\n",
      "STOP: TOTAL NO. of ITERATIONS REACHED LIMIT.\n",
      "\n",
      "Increase the number of iterations (max_iter) or scale the data as shown in:\n",
      "    https://scikit-learn.org/stable/modules/preprocessing.html\n",
      "Please also refer to the documentation for alternative solver options:\n",
      "    https://scikit-learn.org/stable/modules/linear_model.html#logistic-regression\n",
      "  n_iter_i = _check_optimize_result(\n"
     ]
    },
    {
     "name": "stdout",
     "output_type": "stream",
     "text": [
      "The Variance is: 0.2437673130193906\n",
      "The bias is: -0.007653023966817413\n",
      "Training_Accuracy: 1.0\n",
      "Testing Accuracy :  0.9385964912280702\n",
      "\n",
      "\n"
     ]
    }
   ],
   "source": [
    "C = [1,0.2,0.1,10,50,100,150,1000]\n",
    "max_iter = [100,300,600,900,1000,1300,1500,1700]\n",
    "for i in C:\n",
    "    for j in max_iter:\n",
    "        classifier = LogisticRegression(C=i,max_iter=j)\n",
    "        classifier.fit(X_train, y_train)\n",
    "        y_pred = classifier.predict(X_test)\n",
    "        cm = confusion_matrix(y_test, y_pred)\n",
    "        Variance = np.var(y_pred)\n",
    "        SSE = np.mean((np.mean(y_pred)-y)**2)\n",
    "        Bias = SSE-Variance\n",
    "    print(\"The Variance is:\",Variance)\n",
    "    print(\"The bias is:\",Bias)\n",
    "    print(\"Training_Accuracy:\",accuracy_score(y_train,classifier.predict(X_train)))\n",
    "    print (\"Testing Accuracy : \", accuracy_score(y_test, y_pred))\n",
    "    print(\"\\n\")\n",
    "    \n",
    "    \n"
   ]
  },
  {
   "cell_type": "markdown",
   "metadata": {},
   "source": [
    "### SVM POLY"
   ]
  },
  {
   "cell_type": "markdown",
   "metadata": {},
   "source": [
    "#### Default"
   ]
  },
  {
   "cell_type": "code",
   "execution_count": 50,
   "metadata": {},
   "outputs": [
    {
     "name": "stdout",
     "output_type": "stream",
     "text": [
      "2nd degree polynomial Kernel\n",
      "The Variance is: 0.15027700831024932\n",
      "The bias is: 0.1189723916673564\n",
      "Training_Accuracy: 0.8681318681318682\n",
      "Testing Accuracy :  0.7894736842105263\n"
     ]
    }
   ],
   "source": [
    "from sklearn import svm\n",
    "model = svm.SVC(kernel='poly', degree=2,C=1.0, max_iter=-1)\n",
    "model.fit(X_train, y_train)\n",
    "print(\"2nd degree polynomial Kernel\")\n",
    "y_pred = model.predict(X_test)\n",
    "confusion_matrix(y_test, y_pred)\n",
    "\n",
    "Variance = np.var(y_pred)\n",
    "SSE = np.mean((np.mean(y_pred)-y)**2)\n",
    "Bias = SSE-Variance\n",
    "print(\"The Variance is:\",Variance)\n",
    "print(\"The bias is:\",Bias)\n",
    "print(\"Training_Accuracy:\",accuracy_score(y_train,model.predict(X_train)))\n",
    "print (\"Testing Accuracy : \", accuracy_score(y_test, y_pred))\n"
   ]
  },
  {
   "cell_type": "markdown",
   "metadata": {},
   "source": [
    "#### Varying C and max_iter"
   ]
  },
  {
   "cell_type": "code",
   "execution_count": 51,
   "metadata": {},
   "outputs": [
    {
     "name": "stdout",
     "output_type": "stream",
     "text": [
      "The Variance is: 0.15027700831024932\n",
      "The bias is: 0.1189723916673564\n",
      "Training_Accuracy: 0.8681318681318682\n",
      "Testing Accuracy :  0.7894736842105263\n",
      "\n",
      "\n",
      "The Variance is: 0.11426592797783934\n",
      "The bias is: 0.17758228704681883\n",
      "Training_Accuracy: 0.7582417582417582\n",
      "Testing Accuracy :  0.7543859649122807\n",
      "\n",
      "\n",
      "The Variance is: 0.16104955370883348\n",
      "The bias is: 0.10189805596530718\n",
      "Training_Accuracy: 0.8813186813186813\n",
      "Testing Accuracy :  0.7894736842105263\n",
      "\n",
      "\n"
     ]
    },
    {
     "name": "stderr",
     "output_type": "stream",
     "text": [
      "D:\\Anaconda3\\lib\\site-packages\\sklearn\\svm\\_base.py:255: ConvergenceWarning: Solver terminated early (max_iter=1000).  Consider pre-processing your data with StandardScaler or MinMaxScaler.\n",
      "  warnings.warn('Solver terminated early (max_iter=%i).'\n",
      "D:\\Anaconda3\\lib\\site-packages\\sklearn\\svm\\_base.py:255: ConvergenceWarning: Solver terminated early (max_iter=2000).  Consider pre-processing your data with StandardScaler or MinMaxScaler.\n",
      "  warnings.warn('Solver terminated early (max_iter=%i).'\n",
      "D:\\Anaconda3\\lib\\site-packages\\sklearn\\svm\\_base.py:255: ConvergenceWarning: Solver terminated early (max_iter=1000).  Consider pre-processing your data with StandardScaler or MinMaxScaler.\n",
      "  warnings.warn('Solver terminated early (max_iter=%i).'\n",
      "D:\\Anaconda3\\lib\\site-packages\\sklearn\\svm\\_base.py:255: ConvergenceWarning: Solver terminated early (max_iter=2000).  Consider pre-processing your data with StandardScaler or MinMaxScaler.\n",
      "  warnings.warn('Solver terminated early (max_iter=%i).'\n",
      "D:\\Anaconda3\\lib\\site-packages\\sklearn\\svm\\_base.py:255: ConvergenceWarning: Solver terminated early (max_iter=1000).  Consider pre-processing your data with StandardScaler or MinMaxScaler.\n",
      "  warnings.warn('Solver terminated early (max_iter=%i).'\n",
      "D:\\Anaconda3\\lib\\site-packages\\sklearn\\svm\\_base.py:255: ConvergenceWarning: Solver terminated early (max_iter=2000).  Consider pre-processing your data with StandardScaler or MinMaxScaler.\n",
      "  warnings.warn('Solver terminated early (max_iter=%i).'\n",
      "D:\\Anaconda3\\lib\\site-packages\\sklearn\\svm\\_base.py:255: ConvergenceWarning: Solver terminated early (max_iter=5000).  Consider pre-processing your data with StandardScaler or MinMaxScaler.\n",
      "  warnings.warn('Solver terminated early (max_iter=%i).'\n",
      "D:\\Anaconda3\\lib\\site-packages\\sklearn\\svm\\_base.py:255: ConvergenceWarning: Solver terminated early (max_iter=7000).  Consider pre-processing your data with StandardScaler or MinMaxScaler.\n",
      "  warnings.warn('Solver terminated early (max_iter=%i).'\n"
     ]
    },
    {
     "name": "stdout",
     "output_type": "stream",
     "text": [
      "The Variance is: 0.18528778085564787\n",
      "The bias is: 0.06459848940947632\n",
      "Training_Accuracy: 0.9252747252747253\n",
      "Testing Accuracy :  0.8157894736842105\n",
      "\n",
      "\n",
      "The Variance is: 0.19390581717451527\n",
      "The bias is: 0.05183317186686068\n",
      "Training_Accuracy: 0.9428571428571428\n",
      "Testing Accuracy :  0.8333333333333334\n",
      "\n",
      "\n",
      "The Variance is: 0.20567867036011078\n",
      "The bias is: 0.0349935981383484\n",
      "Training_Accuracy: 0.9736263736263736\n",
      "Testing Accuracy :  0.8596491228070176\n",
      "\n",
      "\n",
      "The Variance is: 0.21606648199445982\n",
      "The bias is: 0.020924107512329038\n",
      "Training_Accuracy: 0.9956043956043956\n",
      "Testing Accuracy :  0.8333333333333334\n",
      "\n",
      "\n"
     ]
    },
    {
     "name": "stderr",
     "output_type": "stream",
     "text": [
      "D:\\Anaconda3\\lib\\site-packages\\sklearn\\svm\\_base.py:255: ConvergenceWarning: Solver terminated early (max_iter=1000).  Consider pre-processing your data with StandardScaler or MinMaxScaler.\n",
      "  warnings.warn('Solver terminated early (max_iter=%i).'\n",
      "D:\\Anaconda3\\lib\\site-packages\\sklearn\\svm\\_base.py:255: ConvergenceWarning: Solver terminated early (max_iter=2000).  Consider pre-processing your data with StandardScaler or MinMaxScaler.\n",
      "  warnings.warn('Solver terminated early (max_iter=%i).'\n",
      "D:\\Anaconda3\\lib\\site-packages\\sklearn\\svm\\_base.py:255: ConvergenceWarning: Solver terminated early (max_iter=5000).  Consider pre-processing your data with StandardScaler or MinMaxScaler.\n",
      "  warnings.warn('Solver terminated early (max_iter=%i).'\n",
      "D:\\Anaconda3\\lib\\site-packages\\sklearn\\svm\\_base.py:255: ConvergenceWarning: Solver terminated early (max_iter=7000).  Consider pre-processing your data with StandardScaler or MinMaxScaler.\n",
      "  warnings.warn('Solver terminated early (max_iter=%i).'\n",
      "D:\\Anaconda3\\lib\\site-packages\\sklearn\\svm\\_base.py:255: ConvergenceWarning: Solver terminated early (max_iter=10000).  Consider pre-processing your data with StandardScaler or MinMaxScaler.\n",
      "  warnings.warn('Solver terminated early (max_iter=%i).'\n",
      "D:\\Anaconda3\\lib\\site-packages\\sklearn\\svm\\_base.py:255: ConvergenceWarning: Solver terminated early (max_iter=1000).  Consider pre-processing your data with StandardScaler or MinMaxScaler.\n",
      "  warnings.warn('Solver terminated early (max_iter=%i).'\n",
      "D:\\Anaconda3\\lib\\site-packages\\sklearn\\svm\\_base.py:255: ConvergenceWarning: Solver terminated early (max_iter=2000).  Consider pre-processing your data with StandardScaler or MinMaxScaler.\n",
      "  warnings.warn('Solver terminated early (max_iter=%i).'\n",
      "D:\\Anaconda3\\lib\\site-packages\\sklearn\\svm\\_base.py:255: ConvergenceWarning: Solver terminated early (max_iter=5000).  Consider pre-processing your data with StandardScaler or MinMaxScaler.\n",
      "  warnings.warn('Solver terminated early (max_iter=%i).'\n",
      "D:\\Anaconda3\\lib\\site-packages\\sklearn\\svm\\_base.py:255: ConvergenceWarning: Solver terminated early (max_iter=7000).  Consider pre-processing your data with StandardScaler or MinMaxScaler.\n",
      "  warnings.warn('Solver terminated early (max_iter=%i).'\n"
     ]
    },
    {
     "name": "stdout",
     "output_type": "stream",
     "text": [
      "The Variance is: 0.2303016312711603\n",
      "The bias is: 0.0036306966967259713\n",
      "Training_Accuracy: 1.0\n",
      "Testing Accuracy :  0.8245614035087719\n",
      "\n",
      "\n"
     ]
    },
    {
     "name": "stderr",
     "output_type": "stream",
     "text": [
      "D:\\Anaconda3\\lib\\site-packages\\sklearn\\svm\\_base.py:255: ConvergenceWarning: Solver terminated early (max_iter=10000).  Consider pre-processing your data with StandardScaler or MinMaxScaler.\n",
      "  warnings.warn('Solver terminated early (max_iter=%i).'\n"
     ]
    }
   ],
   "source": [
    "from sklearn import svm\n",
    "C = [1.0,0.1,2.0,10,20,100,500,1000]\n",
    "max_iter = [-1,1000,2000,5000,7000,10000,20000,30000]\n",
    "for i in C:\n",
    "    for j in max_iter:\n",
    "        model = svm.SVC(kernel='poly', degree=2, C=i,max_iter=j)\n",
    "        model.fit(X_train, y_train)\n",
    "        y_pred = model.predict(X_test)\n",
    "        confusion_matrix(y_test, y_pred)\n",
    "        Variance = np.var(y_pred)\n",
    "        SSE = np.mean((np.mean(y_pred)-y)**2)\n",
    "        Bias = SSE-Variance\n",
    "    print(\"The Variance is:\",Variance)\n",
    "    print(\"The bias is:\",Bias)\n",
    "    print(\"Training_Accuracy:\",accuracy_score(y_train,model.predict(X_train)))\n",
    "    print (\"Testing Accuracy : \", accuracy_score(y_test, y_pred))\n",
    "    print(\"\\n\")\n"
   ]
  },
  {
   "cell_type": "markdown",
   "metadata": {},
   "source": [
    "### SVM RBF"
   ]
  },
  {
   "cell_type": "markdown",
   "metadata": {},
   "source": [
    "#### Default"
   ]
  },
  {
   "cell_type": "code",
   "execution_count": 52,
   "metadata": {},
   "outputs": [
    {
     "name": "stdout",
     "output_type": "stream",
     "text": [
      "2nd degree polynomial Kernel\n",
      "The Variance is: 0.23268698060941828\n",
      "The bias is: 0.0010953755677696742\n",
      "Training_Accuracy: 0.9868131868131869\n",
      "Testing Accuracy :  0.9736842105263158\n"
     ]
    }
   ],
   "source": [
    "from sklearn import svm\n",
    "model = svm.SVC(kernel='rbf',C=1.0,max_iter=-1)\n",
    "model.fit(X_train, y_train)\n",
    "print(\"2nd degree polynomial Kernel\")\n",
    "y_pred = model.predict(X_test)\n",
    "confusion_matrix(y_test, y_pred)\n",
    "Variance = np.var(y_pred)\n",
    "SSE = np.mean((np.mean(y_pred)-y)**2)\n",
    "Bias = SSE-Variance\n",
    "print(\"The Variance is:\",Variance)\n",
    "print(\"The bias is:\",Bias)\n",
    "print(\"Training_Accuracy:\",accuracy_score(y_train,model.predict(X_train)))\n",
    "print (\"Testing Accuracy : \", accuracy_score(y_test, y_pred))\n"
   ]
  },
  {
   "cell_type": "markdown",
   "metadata": {},
   "source": [
    "#### Varying C and max_iter"
   ]
  },
  {
   "cell_type": "code",
   "execution_count": 11,
   "metadata": {},
   "outputs": [
    {
     "name": "stdout",
     "output_type": "stream",
     "text": [
      "The Variance is: 0.23268698060941828\n",
      "The bias is: 0.0010953755677696742\n",
      "Training_Accuracy: 0.9868131868131869\n",
      "Testing Accuracy :  0.9736842105263158\n",
      "\n",
      "\n",
      "The Variance is: 0.2303016312711603\n",
      "The bias is: 0.0036306966967259713\n",
      "Training_Accuracy: 0.9560439560439561\n",
      "Testing Accuracy :  0.9473684210526315\n",
      "\n",
      "\n",
      "The Variance is: 0.2303016312711603\n",
      "The bias is: 0.0036306966967259713\n",
      "Training_Accuracy: 0.9912087912087912\n",
      "Testing Accuracy :  0.9824561403508771\n",
      "\n",
      "\n",
      "The Variance is: 0.23268698060941828\n",
      "The bias is: 0.0010953755677696742\n",
      "Training_Accuracy: 0.9934065934065934\n",
      "Testing Accuracy :  0.9736842105263158\n",
      "\n",
      "\n",
      "The Variance is: 0.23491843644198215\n",
      "The bias is: -0.001132158549798451\n",
      "Training_Accuracy: 0.9956043956043956\n",
      "Testing Accuracy :  0.9649122807017544\n",
      "\n",
      "\n",
      "The Variance is: 0.24068944290550937\n",
      "The bias is: -0.005968038834174211\n",
      "Training_Accuracy: 1.0\n",
      "Testing Accuracy :  0.9385964912280702\n",
      "\n",
      "\n",
      "The Variance is: 0.24068944290550937\n",
      "The bias is: -0.005968038834174211\n",
      "Training_Accuracy: 1.0\n",
      "Testing Accuracy :  0.9385964912280702\n",
      "\n",
      "\n",
      "The Variance is: 0.24068944290550937\n",
      "The bias is: -0.005968038834174211\n",
      "Training_Accuracy: 1.0\n",
      "Testing Accuracy :  0.9385964912280702\n",
      "\n",
      "\n"
     ]
    }
   ],
   "source": [
    "from sklearn import svm\n",
    "C = [1.0,0.1,2.0,10,20,100,500,1000]\n",
    "max_iter = [-1,1000,2000,5000,7000,10000,20000,30000]\n",
    "for i in C:\n",
    "    for j in max_iter:\n",
    "        model = svm.SVC(kernel='rbf',C=i,max_iter=j)\n",
    "        model.fit(X_train, y_train)\n",
    "        y_pred = model.predict(X_test)\n",
    "        confusion_matrix(y_test, y_pred)\n",
    "        Variance = np.var(y_pred)\n",
    "        SSE = np.mean((np.mean(y_pred)-y)**2)\n",
    "        Bias = SSE-Variance\n",
    "    print(\"The Variance is:\",Variance)\n",
    "    print(\"The bias is:\",Bias)\n",
    "    print(\"Training_Accuracy:\",accuracy_score(y_train,model.predict(X_train)))\n",
    "    print (\"Testing Accuracy : \", accuracy_score(y_test, y_pred))\n",
    "    print(\"\\n\")\n"
   ]
  },
  {
   "cell_type": "code",
   "execution_count": null,
   "metadata": {},
   "outputs": [],
   "source": []
  }
 ],
 "metadata": {
  "kernelspec": {
   "display_name": "Python 3",
   "language": "python",
   "name": "python3"
  },
  "language_info": {
   "codemirror_mode": {
    "name": "ipython",
    "version": 3
   },
   "file_extension": ".py",
   "mimetype": "text/x-python",
   "name": "python",
   "nbconvert_exporter": "python",
   "pygments_lexer": "ipython3",
   "version": "3.8.5"
  }
 },
 "nbformat": 4,
 "nbformat_minor": 4
}
